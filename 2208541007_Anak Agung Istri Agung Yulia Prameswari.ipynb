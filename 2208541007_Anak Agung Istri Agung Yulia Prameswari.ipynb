{
 "cells": [
  {
   "cell_type": "code",
   "execution_count": 1,
   "id": "149a2f3e",
   "metadata": {},
   "outputs": [
    {
     "ename": "SyntaxError",
     "evalue": "Missing parentheses in call to 'print'. Did you mean print(\"aku gunggekswari\")? (3978832514.py, line 1)",
     "output_type": "error",
     "traceback": [
      "\u001b[1;36m  File \u001b[1;32m\"C:\\Users\\ASUS\\AppData\\Local\\Temp\\ipykernel_18812\\3978832514.py\"\u001b[1;36m, line \u001b[1;32m1\u001b[0m\n\u001b[1;33m    print \"aku gunggekswari\"\u001b[0m\n\u001b[1;37m          ^\u001b[0m\n\u001b[1;31mSyntaxError\u001b[0m\u001b[1;31m:\u001b[0m Missing parentheses in call to 'print'. Did you mean print(\"aku gunggekswari\")?\n"
     ]
    }
   ],
   "source": [
    "#hasilnya error karena tidak berisi buka dan tutup kurung \n",
    "print \"aku gunggekswari\""
   ]
  },
  {
   "cell_type": "code",
   "execution_count": 2,
   "id": "5e55180b",
   "metadata": {},
   "outputs": [
    {
     "ename": "SyntaxError",
     "evalue": "EOL while scanning string literal (2323821732.py, line 1)",
     "output_type": "error",
     "traceback": [
      "\u001b[1;36m  File \u001b[1;32m\"C:\\Users\\ASUS\\AppData\\Local\\Temp\\ipykernel_18812\\2323821732.py\"\u001b[1;36m, line \u001b[1;32m1\u001b[0m\n\u001b[1;33m    print (\"nim ku 007')\u001b[0m\n\u001b[1;37m                        ^\u001b[0m\n\u001b[1;31mSyntaxError\u001b[0m\u001b[1;31m:\u001b[0m EOL while scanning string literal\n"
     ]
    }
   ],
   "source": [
    "#error karena tanda yang digunakan tidak sama, seharusnya jika yang digunakan tanda \" makan di kedua sisi harus\n",
    "#digunakan tanda yang sama, senaliknya jika menggunakan tanda ' maka di kedua sisinya menggunakan tanda '\n",
    "print (\"nim ku 007')"
   ]
  },
  {
   "cell_type": "code",
   "execution_count": 3,
   "id": "916df589",
   "metadata": {},
   "outputs": [
    {
     "name": "stdout",
     "output_type": "stream",
     "text": [
      "namaku gunggekswari nim007\n"
     ]
    }
   ],
   "source": [
    "#contoh yang benar \n",
    "print ('namaku gunggekswari nim007')"
   ]
  },
  {
   "cell_type": "code",
   "execution_count": 4,
   "id": "c0f44eae",
   "metadata": {},
   "outputs": [
    {
     "name": "stdout",
     "output_type": "stream",
     "text": [
      "5\n"
     ]
    }
   ],
   "source": [
    "print ((2023-2000)-(2023-2005))"
   ]
  },
  {
   "cell_type": "code",
   "execution_count": 5,
   "id": "f93b76c2",
   "metadata": {},
   "outputs": [
    {
     "name": "stdout",
     "output_type": "stream",
     "text": [
      "haloo sama saya gunggekswari\n"
     ]
    }
   ],
   "source": [
    "nama_depan_07 = \"gunggek\"\n",
    "nama_belakang_07 = \"swari\"\n",
    "print ('haloo sama saya ' +nama_depan_07 +nama_belakang_07)"
   ]
  },
  {
   "cell_type": "code",
   "execution_count": 6,
   "id": "563de79c",
   "metadata": {},
   "outputs": [
    {
     "name": "stdout",
     "output_type": "stream",
     "text": [
      "input namagunggek\n",
      "input nim2208541007\n",
      "input mata kuliah hari inialgoritma\n",
      "gunggek2208541007algoritma\n"
     ]
    }
   ],
   "source": [
    "# jarak antara input nama tidak ada spasi karena saat input diakhir kata tidak ada spasi \n",
    "#print hasil akhirnya tidak ada spasi karna saat di print tidak ada +' '+\n",
    "nama = input('input nama')\n",
    "nim = input('input nim')\n",
    "matkul = input('input mata kuliah hari ini')\n",
    "print(nama+nim+matkul)"
   ]
  },
  {
   "cell_type": "code",
   "execution_count": 7,
   "id": "98d92443",
   "metadata": {},
   "outputs": [
    {
     "name": "stdout",
     "output_type": "stream",
     "text": [
      "input nama gunggek\n",
      "input nim 007\n",
      "input mata kuliah hari ini algoritma\n",
      "gunggek 007 algoritma\n"
     ]
    }
   ],
   "source": [
    "#contoh yang rapi, ada spasinyaa\n",
    "nama = input('input nama ')\n",
    "nim = input('input nim ')\n",
    "matkul = input('input mata kuliah hari ini ')\n",
    "print(nama+' '+nim+' '+matkul)"
   ]
  },
  {
   "cell_type": "code",
   "execution_count": 4,
   "id": "6941b6a1",
   "metadata": {},
   "outputs": [
    {
     "ename": "SyntaxError",
     "evalue": "leading zeros in decimal integer literals are not permitted; use an 0o prefix for octal integers (192078157.py, line 3)",
     "output_type": "error",
     "traceback": [
      "\u001b[1;36m  File \u001b[1;32m\"C:\\Users\\ASUS\\AppData\\Local\\Temp\\ipykernel_2236\\192078157.py\"\u001b[1;36m, line \u001b[1;32m3\u001b[0m\n\u001b[1;33m    mahasiswa_07 = 07\u001b[0m\n\u001b[1;37m                    ^\u001b[0m\n\u001b[1;31mSyntaxError\u001b[0m\u001b[1;31m:\u001b[0m leading zeros in decimal integer literals are not permitted; use an 0o prefix for octal integers\n"
     ]
    }
   ],
   "source": [
    "#error karena menggunakan angka 0 \n",
    "#jika menggunakan huruf maka harus berisi tanda kutip \"\" atau ''\n",
    "mahasiswa_07 = 07\n",
    "nama = gunggek \n",
    "print (mahasiswa_07)\n",
    "print (nama)"
   ]
  },
  {
   "cell_type": "code",
   "execution_count": 6,
   "id": "c71726f3",
   "metadata": {},
   "outputs": [
    {
     "name": "stdout",
     "output_type": "stream",
     "text": [
      "uang di dompet saya adalah 50.000\n"
     ]
    },
    {
     "ename": "ValueError",
     "evalue": "invalid literal for int() with base 10: '50.000'",
     "output_type": "error",
     "traceback": [
      "\u001b[1;31m---------------------------------------------------------------------------\u001b[0m",
      "\u001b[1;31mValueError\u001b[0m                                Traceback (most recent call last)",
      "\u001b[1;32m~\\AppData\\Local\\Temp\\ipykernel_2236\\1267122616.py\u001b[0m in \u001b[0;36m<module>\u001b[1;34m\u001b[0m\n\u001b[0;32m      1\u001b[0m \u001b[1;31m#tidak bisa karena setelah di run data input yang dimasukan berisi titik\u001b[0m\u001b[1;33m\u001b[0m\u001b[1;33m\u001b[0m\u001b[0m\n\u001b[1;32m----> 2\u001b[1;33m \u001b[0mdompet_07\u001b[0m \u001b[1;33m=\u001b[0m \u001b[0mint\u001b[0m\u001b[1;33m(\u001b[0m\u001b[0minput\u001b[0m\u001b[1;33m(\u001b[0m\u001b[1;34m'uang di dompet saya adalah '\u001b[0m\u001b[1;33m)\u001b[0m\u001b[1;33m)\u001b[0m\u001b[1;33m\u001b[0m\u001b[1;33m\u001b[0m\u001b[0m\n\u001b[0m\u001b[0;32m      3\u001b[0m \u001b[0mtabungan_07\u001b[0m \u001b[1;33m=\u001b[0m \u001b[0mint\u001b[0m\u001b[1;33m(\u001b[0m\u001b[0minput\u001b[0m\u001b[1;33m(\u001b[0m\u001b[1;34m'uang di tabungan saya adalah '\u001b[0m\u001b[1;33m)\u001b[0m\u001b[1;33m)\u001b[0m\u001b[1;33m\u001b[0m\u001b[1;33m\u001b[0m\u001b[0m\n\u001b[0;32m      4\u001b[0m \u001b[1;31m#total = int(dompet_07) + int(tabungan_07)\u001b[0m\u001b[1;33m\u001b[0m\u001b[1;33m\u001b[0m\u001b[0m\n\u001b[0;32m      5\u001b[0m \u001b[0mprint\u001b[0m \u001b[1;33m(\u001b[0m\u001b[1;34m'jadi total uang saya adalah '\u001b[0m \u001b[1;33m+\u001b[0m \u001b[0mstr\u001b[0m\u001b[1;33m(\u001b[0m\u001b[0mdompet_07\u001b[0m \u001b[1;33m+\u001b[0m \u001b[0mtabungan_07\u001b[0m\u001b[1;33m)\u001b[0m\u001b[1;33m)\u001b[0m\u001b[1;33m\u001b[0m\u001b[1;33m\u001b[0m\u001b[0m\n",
      "\u001b[1;31mValueError\u001b[0m: invalid literal for int() with base 10: '50.000'"
     ]
    }
   ],
   "source": [
    "#tidak bisa karena setelah di run data input yang dimasukan berisi titik\n",
    "dompet_07 = int(input('uang di dompet saya adalah '))\n",
    "tabungan_07 = int(input('uang di tabungan saya adalah '))\n",
    "#total = int(dompet_07) + int(tabungan_07)\n",
    "print ('jadi total uang saya adalah ' + str(dompet_07 + tabungan_07))"
   ]
  },
  {
   "cell_type": "code",
   "execution_count": 10,
   "id": "c8a2c127",
   "metadata": {},
   "outputs": [
    {
     "name": "stdout",
     "output_type": "stream",
     "text": [
      "uang di dompet saya adalah 50000\n",
      "uang di tabungan saya adalah 1000000\n",
      "jadi total uang saya adalah 500001000000\n"
     ]
    }
   ],
   "source": [
    "#total uang saya tidak bisa dijumlahkan karena di depan input tidak berisi int \n",
    "dompet_07 = input('uang di dompet saya adalah ')\n",
    "tabungan_07 = input('uang di tabungan saya adalah ')\n",
    "#total = int(dompet_07) + int(tabungan_07)\n",
    "print ('jadi total uang saya adalah ' + str(dompet_07 + tabungan_07))"
   ]
  },
  {
   "cell_type": "code",
   "execution_count": 11,
   "id": "fe401e81",
   "metadata": {},
   "outputs": [
    {
     "name": "stdout",
     "output_type": "stream",
     "text": [
      "uang di dompet saya adalah 500000\n",
      "uang di tabungan saya adalah 1000000\n",
      "jadi total uang saya adalah 1500000\n"
     ]
    }
   ],
   "source": [
    "# berhasil dijumlahkan \n",
    "dompet_07 = int(input('uang di dompet saya adalah '))\n",
    "tabungan_07 = int(input('uang di tabungan saya adalah '))\n",
    "#total = int(dompet_07) + int(tabungan_07)\n",
    "print ('jadi total uang saya adalah ' + str(dompet_07 + tabungan_07))"
   ]
  },
  {
   "cell_type": "code",
   "execution_count": 12,
   "id": "0186ed0f",
   "metadata": {},
   "outputs": [
    {
     "name": "stdout",
     "output_type": "stream",
     "text": [
      "Anak Agung Istri Agung Yulia Prameswari 2208541007  A  Matematika  MIPA \n"
     ]
    }
   ],
   "source": [
    "nama_lengkap = \"Anak Agung Istri Agung Yulia Prameswari\"\n",
    "nim = \" 2208541007 \"\n",
    "kelas = \" A \"\n",
    "prodi = \" Matematika \"\n",
    "fakultas = \" MIPA \"\n",
    "print (nama_lengkap + nim + kelas + prodi + fakultas)"
   ]
  },
  {
   "cell_type": "code",
   "execution_count": 13,
   "id": "0bbc648e",
   "metadata": {},
   "outputs": [
    {
     "name": "stdout",
     "output_type": "stream",
     "text": [
      " Matematika \n"
     ]
    }
   ],
   "source": [
    "#tanpa memasukan data tetapi hasilnya bisa terlihat karena ingatan dari data sebelumnya \n",
    "print (prodi)"
   ]
  },
  {
   "cell_type": "code",
   "execution_count": 7,
   "id": "af3526d1",
   "metadata": {},
   "outputs": [
    {
     "ename": "NameError",
     "evalue": "name 'ungu' is not defined",
     "output_type": "error",
     "traceback": [
      "\u001b[1;31m---------------------------------------------------------------------------\u001b[0m",
      "\u001b[1;31mNameError\u001b[0m                                 Traceback (most recent call last)",
      "\u001b[1;32m~\\AppData\\Local\\Temp\\ipykernel_2236\\763472150.py\u001b[0m in \u001b[0;36m<module>\u001b[1;34m\u001b[0m\n\u001b[0;32m      1\u001b[0m \u001b[1;31m# tidak bisa di print karena tidak menggunakan tanda '' atau \"\"\u001b[0m\u001b[1;33m\u001b[0m\u001b[1;33m\u001b[0m\u001b[0m\n\u001b[1;32m----> 2\u001b[1;33m \u001b[0mwarna_07\u001b[0m \u001b[1;33m=\u001b[0m \u001b[1;33m(\u001b[0m\u001b[0mungu\u001b[0m\u001b[1;33m,\u001b[0m \u001b[0mbiru\u001b[0m\u001b[1;33m,\u001b[0m \u001b[0mputih\u001b[0m\u001b[1;33m,\u001b[0m \u001b[0mhitam\u001b[0m\u001b[1;33m,\u001b[0m \u001b[0mkuning\u001b[0m\u001b[1;33m)\u001b[0m\u001b[1;33m\u001b[0m\u001b[1;33m\u001b[0m\u001b[0m\n\u001b[0m\u001b[0;32m      3\u001b[0m \u001b[0mprint\u001b[0m \u001b[1;33m(\u001b[0m\u001b[0mwarna\u001b[0m\u001b[1;33m)\u001b[0m\u001b[1;33m\u001b[0m\u001b[1;33m\u001b[0m\u001b[0m\n",
      "\u001b[1;31mNameError\u001b[0m: name 'ungu' is not defined"
     ]
    }
   ],
   "source": [
    "# tidak bisa di print karena tidak menggunakan tanda '' atau \"\" \n",
    "warna_07 = (ungu, biru, putih, hitam, kuning)\n",
    "print (warna)"
   ]
  },
  {
   "cell_type": "code",
   "execution_count": 15,
   "id": "f17fb7f8",
   "metadata": {},
   "outputs": [
    {
     "name": "stdout",
     "output_type": "stream",
     "text": [
      "ungu, biru, putih, hitam, kuning\n"
     ]
    }
   ],
   "source": [
    "warna_07 = (\"ungu, biru, putih, hitam, kuning\")\n",
    "print (warna_07)"
   ]
  },
  {
   "cell_type": "code",
   "execution_count": 10,
   "id": "26436f81",
   "metadata": {},
   "outputs": [
    {
     "ename": "NameError",
     "evalue": "name 'angkas' is not defined",
     "output_type": "error",
     "traceback": [
      "\u001b[1;31m---------------------------------------------------------------------------\u001b[0m",
      "\u001b[1;31mNameError\u001b[0m                                 Traceback (most recent call last)",
      "\u001b[1;32m~\\AppData\\Local\\Temp\\ipykernel_2236\\3436994678.py\u001b[0m in \u001b[0;36m<module>\u001b[1;34m\u001b[0m\n\u001b[0;32m      1\u001b[0m \u001b[1;31m#tidak dapat ditemukan karena kata yang dimasukan berbeda dengan kata yang di print\u001b[0m\u001b[1;33m\u001b[0m\u001b[1;33m\u001b[0m\u001b[0m\n\u001b[0;32m      2\u001b[0m \u001b[0mangka\u001b[0m \u001b[1;33m=\u001b[0m \u001b[1;33m[\u001b[0m\u001b[1;36m1\u001b[0m\u001b[1;33m,\u001b[0m\u001b[1;36m1\u001b[0m\u001b[1;33m,\u001b[0m\u001b[1;36m1\u001b[0m\u001b[1;33m]\u001b[0m\u001b[1;33m,\u001b[0m \u001b[1;33m[\u001b[0m\u001b[1;36m2\u001b[0m\u001b[1;33m,\u001b[0m\u001b[1;36m2\u001b[0m\u001b[1;33m,\u001b[0m\u001b[1;36m2\u001b[0m\u001b[1;33m]\u001b[0m\u001b[1;33m,\u001b[0m \u001b[1;33m[\u001b[0m\u001b[1;36m3\u001b[0m\u001b[1;33m,\u001b[0m\u001b[1;36m3\u001b[0m\u001b[1;33m,\u001b[0m\u001b[1;36m3\u001b[0m\u001b[1;33m]\u001b[0m\u001b[1;33m\u001b[0m\u001b[1;33m\u001b[0m\u001b[0m\n\u001b[1;32m----> 3\u001b[1;33m \u001b[0mprint\u001b[0m \u001b[1;33m(\u001b[0m\u001b[0mangkas\u001b[0m\u001b[1;33m)\u001b[0m\u001b[1;33m\u001b[0m\u001b[1;33m\u001b[0m\u001b[0m\n\u001b[0m",
      "\u001b[1;31mNameError\u001b[0m: name 'angkas' is not defined"
     ]
    }
   ],
   "source": [
    "#tidak dapat ditemukan karena kata yang dimasukan berbeda dengan kata yang di print \n",
    "angka = [1,1,1], [2,2,2], [3,3,3]\n",
    "print (angkas)"
   ]
  },
  {
   "cell_type": "code",
   "execution_count": 11,
   "id": "7ba62275",
   "metadata": {},
   "outputs": [
    {
     "name": "stdout",
     "output_type": "stream",
     "text": [
      "[[1, 1, 1], [2, 2, 2], [3, 3, 3]]\n"
     ]
    }
   ],
   "source": [
    "angka = [[1,1,1], [2,2,2], [3,3,3]]\n",
    "print (angka)"
   ]
  },
  {
   "cell_type": "code",
   "execution_count": 12,
   "id": "e6d67e1a",
   "metadata": {},
   "outputs": [
    {
     "name": "stdout",
     "output_type": "stream",
     "text": [
      "([1, 1, 1], [2, 2, 2], [3, 3, 3])\n"
     ]
    }
   ],
   "source": [
    "#jika tidak menggunakan kurung siku di depan dan belakang matrik maka setelah di print akan menjadi\n",
    "#kurung biasa. berbeda dengan contoh yang diatas \n",
    "angka = [1,1,1], [2,2,2], [3,3,3]\n",
    "print (angka)"
   ]
  },
  {
   "cell_type": "code",
   "execution_count": 1,
   "id": "6e23c666",
   "metadata": {},
   "outputs": [
    {
     "name": "stdout",
     "output_type": "stream",
     "text": [
      "jumlah belanjaan 100,000\n"
     ]
    },
    {
     "ename": "ValueError",
     "evalue": "could not convert string to float: '100,000'",
     "output_type": "error",
     "traceback": [
      "\u001b[1;31m---------------------------------------------------------------------------\u001b[0m",
      "\u001b[1;31mValueError\u001b[0m                                Traceback (most recent call last)",
      "\u001b[1;32m~\\AppData\\Local\\Temp\\ipykernel_2236\\202571986.py\u001b[0m in \u001b[0;36m<module>\u001b[1;34m\u001b[0m\n\u001b[1;32m----> 1\u001b[1;33m \u001b[0mbelanja\u001b[0m \u001b[1;33m=\u001b[0m \u001b[0mfloat\u001b[0m\u001b[1;33m(\u001b[0m\u001b[0minput\u001b[0m\u001b[1;33m(\u001b[0m\u001b[1;34m'jumlah belanjaan '\u001b[0m\u001b[1;33m)\u001b[0m\u001b[1;33m)\u001b[0m\u001b[1;33m\u001b[0m\u001b[1;33m\u001b[0m\u001b[0m\n\u001b[0m\u001b[0;32m      2\u001b[0m \u001b[0mbayar\u001b[0m \u001b[1;33m=\u001b[0m \u001b[0mfloat\u001b[0m\u001b[1;33m(\u001b[0m\u001b[0minput\u001b[0m\u001b[1;33m(\u001b[0m\u001b[1;34m'uang yang dibayarkan '\u001b[0m\u001b[1;33m)\u001b[0m\u001b[1;33m)\u001b[0m\u001b[1;33m\u001b[0m\u001b[1;33m\u001b[0m\u001b[0m\n\u001b[0;32m      3\u001b[0m \u001b[1;31m#total = float(bayar) - float(belanja)\u001b[0m\u001b[1;33m\u001b[0m\u001b[1;33m\u001b[0m\u001b[0m\n\u001b[0;32m      4\u001b[0m \u001b[0mprint\u001b[0m \u001b[1;33m(\u001b[0m\u001b[1;34m'jadi kembaliannya '\u001b[0m \u001b[1;33m+\u001b[0m \u001b[0mstr\u001b[0m\u001b[1;33m(\u001b[0m\u001b[0mbayar\u001b[0m \u001b[1;33m-\u001b[0m \u001b[0mbelanja\u001b[0m\u001b[1;33m)\u001b[0m\u001b[1;33m)\u001b[0m\u001b[1;33m\u001b[0m\u001b[1;33m\u001b[0m\u001b[0m\n",
      "\u001b[1;31mValueError\u001b[0m: could not convert string to float: '100,000'"
     ]
    }
   ],
   "source": [
    "#karena setelah di print jumlah belanjaan yang di masukkan menggunakan koma. seharusnya menggunakan titik\n",
    "belanja = float(input('jumlah belanjaan '))\n",
    "bayar = float(input('uang yang dibayarkan '))\n",
    "#total = float(bayar) - float(belanja)\n",
    "print ('jadi kembaliannya ' + str(bayar - belanja))"
   ]
  },
  {
   "cell_type": "code",
   "execution_count": 9,
   "id": "786484b9",
   "metadata": {},
   "outputs": [
    {
     "name": "stdout",
     "output_type": "stream",
     "text": [
      "jumlah belanjaan 54.789\n",
      "uang yang dibayarkan 100.000\n",
      "jadi kembaliannya 45.211\n"
     ]
    }
   ],
   "source": [
    "belanja_07 = float(input('jumlah belanjaan '))\n",
    "bayar_07 = float(input('uang yang dibayarkan '))\n",
    "#total = float(bayar_07) - float(belanja_07)\n",
    "print ('jadi kembaliannya ' + str(bayar_07 - belanja_07))"
   ]
  },
  {
   "cell_type": "code",
   "execution_count": null,
   "id": "954ae730",
   "metadata": {},
   "outputs": [],
   "source": []
  }
 ],
 "metadata": {
  "kernelspec": {
   "display_name": "Python 3 (ipykernel)",
   "language": "python",
   "name": "python3"
  },
  "language_info": {
   "codemirror_mode": {
    "name": "ipython",
    "version": 3
   },
   "file_extension": ".py",
   "mimetype": "text/x-python",
   "name": "python",
   "nbconvert_exporter": "python",
   "pygments_lexer": "ipython3",
   "version": "3.9.13"
  }
 },
 "nbformat": 4,
 "nbformat_minor": 5
}
