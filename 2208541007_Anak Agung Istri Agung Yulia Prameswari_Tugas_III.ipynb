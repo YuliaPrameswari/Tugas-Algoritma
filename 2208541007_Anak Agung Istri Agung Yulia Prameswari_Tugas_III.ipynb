{
 "cells": [
  {
   "cell_type": "code",
   "execution_count": 35,
   "id": "d74fcaba",
   "metadata": {},
   "outputs": [
    {
     "name": "stdout",
     "output_type": "stream",
     "text": [
      "aku suka\n",
      "arna ung\n",
      "warna ungu\n"
     ]
    }
   ],
   "source": [
    "#tugas III\n",
    "#Nama: Anak Agung Istri Agung Yulia Prameswari \n",
    "#NIM: 2208541007\n",
    "#Kelas: A\n",
    "\n",
    "## String Index\n",
    "#urutan dengan index dimulai dengan 0 dan urutan terakhir didefinisikan sebagai urutan ke -1 \n",
    "#spasi juga hitung sebagai urutan\n",
    "#masukkan datanya terlebih dahulu\n",
    "warna = 'aku suka warna ungu'\n",
    "#index dimulai dari 0 hingga index 19 \n",
    "#index \"aku suka\" kan dimulai dari 0 hingga 8\n",
    "print(warna[0:8])\n",
    "\n",
    "#atau bisa juga dilakukan seperti ini \n",
    "print(warna[10:-1])\n",
    "#ini akan menampilkan hasil \"arna ungu\" karena jika ingin mengambil huruf yang ada di tengah maka index itu harus dikurang satu \n",
    "#w pada kata \"warna\" itu berada di urutan ke 10 maka jika ingin tampil sempurna \"warna ungu\" maka harus di kurang satu \n",
    "#jika kita menggunakan -1 untuk urutan terakhir maka hasilnya kata dari data yang kita inginkan berkurang satu huruf\n",
    "#seharusnya \"ungu\" namun karna menggunakan -1 maka menjadi \"ung\"\n",
    "#jadinya 9 hingga 19\n",
    "print (warna[9:19])"
   ]
  },
  {
   "cell_type": "code",
   "execution_count": 5,
   "id": "9bff8eb2",
   "metadata": {},
   "outputs": [
    {
     "name": "stdout",
     "output_type": "stream",
     "text": [
      "kamu itu langka\n",
      "ungu itu\n"
     ]
    }
   ],
   "source": [
    "#masukkan dulu datanya \n",
    "bunga = 'mawar ungu kamu itu langka'\n",
    "\n",
    "print(bunga[11:28])\n",
    "#jika di print maka akan menampilkan hasil \"kamu itu langka\"\n",
    "#haruf k dalam kata \"kamu\" itu merupakan urutan ke 12 tetapi karna di merupakan kata di tengah maka harus dikuri satu, jadinya urutan ke 11 \n",
    "\n",
    "#print(bunga[6:10]+' '+[16:19])\n",
    "#ini tidak akan berhasil karena [16:19] tidak didefinisikan bunga, seharusnya print(bunga[6:10]+' '+ bunga[16:19])\n",
    "print(bunga[6:10]+' '+ bunga[16:19])\n",
    "#ini akan menampilkan \"ungu\" dan \"itu\""
   ]
  },
  {
   "cell_type": "code",
   "execution_count": 38,
   "id": "bd9f03cf",
   "metadata": {},
   "outputs": [
    {
     "name": "stdout",
     "output_type": "stream",
     "text": [
      "aku suka  mawar ungu  karena itu langka\n"
     ]
    }
   ],
   "source": [
    "print(warna[0:9]+' '+ bunga[0:11]+' '+ \"karena\"+' '+ bunga[16:28])"
   ]
  },
  {
   "cell_type": "code",
   "execution_count": 34,
   "id": "9a430712",
   "metadata": {},
   "outputs": [
    {
     "name": "stdout",
     "output_type": "stream",
     "text": [
      "51\n"
     ]
    },
    {
     "data": {
      "text/plain": [
       "'Hari Senin Anak Matematika Angkatan 22 Kuliah ke Kampus'"
      ]
     },
     "execution_count": 34,
     "metadata": {},
     "output_type": "execute_result"
    }
   ],
   "source": [
    "# String Method \n",
    "kampus = 'Hari Senin Anak Matematika Kelas A Kuliah ke Kampus'\n",
    "\n",
    "#pada string method ini kita bisa melihat jumlah banyak huruf yang ada termasuk spasi \n",
    "print(len(kampus))\n",
    "#totalnya ada 51 \n",
    "\n",
    "#kita juga bisa merubah salah satu kata dalam kalimat tersebut \n",
    "#kampus.replace('kelas a', 'Angkatan 22') ini tidak akan berhasil, dan kalimatnya akan tetap sama karena pada saat memasukkan dat \n",
    "#saya memasukkan \"Kelas A\" namun saat mau mengubahnya saya membuat \"kelas a\" jadi data tersebut bisa berubah jika data yang diubah sama dengan data yang dimasukkan \n",
    "kampus.replace('Kelas A', 'Angkatan 22')\n",
    "#ini akan berhasil karna data yang ingin di ubah sama dengan data yang dimasukkan "
   ]
  },
  {
   "cell_type": "code",
   "execution_count": 10,
   "id": "e790f381",
   "metadata": {},
   "outputs": [
    {
     "data": {
      "text/plain": [
       "'hari senin anak matematika kelas a kuliah ke kampus'"
      ]
     },
     "execution_count": 10,
     "metadata": {},
     "output_type": "execute_result"
    }
   ],
   "source": [
    "#jika ingin membuat data tersebut menggunakan huruf kecil semua makaa\n",
    "kampus.lower()\n",
    "#maka hasilnya akan \"hari senin anak matematika kelas a kuliah ke kampus\""
   ]
  },
  {
   "cell_type": "code",
   "execution_count": 11,
   "id": "af9e5a89",
   "metadata": {},
   "outputs": [
    {
     "data": {
      "text/plain": [
       "'HARI SENIN ANAK MATEMATIKA KELAS A KULIAH KE KAMPUS'"
      ]
     },
     "execution_count": 11,
     "metadata": {},
     "output_type": "execute_result"
    }
   ],
   "source": [
    "#jika ingin membuat data tersebut menggunakan huruf besar semuaa maka \n",
    "kampus.upper()\n",
    "#maka hasilnya akan \"HARI SENIN ANAK MATEMATIKA KELAS A KULIAH KE KAMPUS\""
   ]
  },
  {
   "cell_type": "code",
   "execution_count": 33,
   "id": "0ae46afe",
   "metadata": {},
   "outputs": [
    {
     "name": "stdout",
     "output_type": "stream",
     "text": [
      "10\n",
      "18\n",
      "121\n",
      "3.5\n",
      "3\n",
      "1\n",
      "27\n"
     ]
    }
   ],
   "source": [
    "# Operasi Matematika \n",
    "\n",
    "#penjumlahan dengan tanda (+)\n",
    "print(5+5)\n",
    "\n",
    "#pengurangan dengan tanda (-) \n",
    "print (2023-2005)\n",
    "\n",
    "#perkalian dengan tanda (*)\n",
    "print (11*11)\n",
    "\n",
    "#pembagian dengan tanda (/)\n",
    "print (7/2)\n",
    "\n",
    "#pembulatan pembagian dengan tanda (//)\n",
    "print (7//2)\n",
    "\n",
    "#modulu dengan tanda (%)\n",
    "print (9%4)\n",
    "\n",
    "#pemangkatan dengan tanda (**)\n",
    "print (3**3)"
   ]
  },
  {
   "cell_type": "code",
   "execution_count": 37,
   "id": "c91d9ab9",
   "metadata": {},
   "outputs": [
    {
     "name": "stdout",
     "output_type": "stream",
     "text": [
      "10.0\n",
      "250.0\n"
     ]
    }
   ],
   "source": [
    "print((25+15)/(2**2))\n",
    "print((10/2)*(100-50))"
   ]
  },
  {
   "cell_type": "code",
   "execution_count": 32,
   "id": "c57ea062",
   "metadata": {},
   "outputs": [
    {
     "name": "stdout",
     "output_type": "stream",
     "text": [
      "True\n",
      "False\n",
      "True\n",
      "False\n",
      "True\n",
      "False\n",
      "True\n",
      "False\n",
      "True\n",
      "False\n",
      "True\n",
      "False\n"
     ]
    }
   ],
   "source": [
    "# Operator Perbandingan di Python \n",
    "#jika yang kita katakan benar maka hasilnya akan menampilkan 'true'\n",
    "#namun jika salah makan akan menampilkan 'false'\n",
    "\n",
    "#lebih besar (>)\n",
    "a= 5>2\n",
    "print (a)\n",
    "b= 2>5\n",
    "print (b)\n",
    "\n",
    "#lebih kecil (<)\n",
    "c= 3<7\n",
    "print (c)\n",
    "d= 7<3\n",
    "print (d)\n",
    "\n",
    "#lebih besar sama dengan (>=)\n",
    "e= 9>=9\n",
    "print(e)\n",
    "f= 7>=9\n",
    "print(f)\n",
    "\n",
    "#lebih kecil sama dengan (<=)\n",
    "g= 6<=9\n",
    "print(g)\n",
    "h= 9<=6\n",
    "print (h)\n",
    "\n",
    "#sama dengan (==)\n",
    "i= 7==7\n",
    "print(i)\n",
    "j= 5==9\n",
    "print(j)\n",
    "\n",
    "#tidak sama dengan (!=)\n",
    "k= 7!=5\n",
    "print (k)\n",
    "l= 8!=8\n",
    "print (l)"
   ]
  },
  {
   "cell_type": "code",
   "execution_count": 31,
   "id": "9117cd31",
   "metadata": {},
   "outputs": [
    {
     "name": "stdout",
     "output_type": "stream",
     "text": [
      "True\n",
      "False\n",
      "False\n",
      "True\n",
      "True\n",
      "False\n",
      "False\n",
      "True\n"
     ]
    }
   ],
   "source": [
    "# Operator Logika \n",
    "#operator logika pada python adalah and, or, dan not\n",
    "\n",
    "#operator and akan 'true' jika kedua nilai adalah 'true'\n",
    "ungu = 9 \n",
    "biru = 3\n",
    "print(ungu > 5 and biru > 1)\n",
    "print(ungu > 5 and biru > 9)\n",
    "print(ungu < 12 and biru > 7)\n",
    "\n",
    "#operator or akan 'true' jika salah satu nilainya 'true'\n",
    "mawar = 5\n",
    "melati = 8\n",
    "print(mawar > 2 or melati < 10)\n",
    "print(mawar > 3 or mawar < 7)\n",
    "print (melati > 10 or melati < 4)\n",
    "#operator or juga akan 'true' jika keduanya true\n",
    "\n",
    "#operator not akan menghasilkan nilai berlawanan \n",
    "print(not(ungu > 5 and biru > 1))\n",
    "print(not(melati > 10 or melati < 4))"
   ]
  },
  {
   "cell_type": "code",
   "execution_count": 30,
   "id": "7bb7e0c0",
   "metadata": {},
   "outputs": [
    {
     "name": "stdout",
     "output_type": "stream",
     "text": [
      "Usia anda dalam keluarga 17 \n",
      "jangan sering begadang!!! nanti gabisa tinggi\n"
     ]
    }
   ],
   "source": [
    "# Operator if di Python \n",
    "#operator if akan dijalankan apabila nilai variabel yang dijalankan adalah 'true'\n",
    "#jika nilainya 'false' maka tidak akan dijalankan \n",
    "\n",
    "usia = float(input(\"Usia anda dalam keluarga \"))\n",
    "if usia >= 80:\n",
    "    print(\"Waw anda bisa bertahan sampai sejauh ini\")\n",
    "if usia < 80 and usia >= 70:\n",
    "    print (\"selamat anda memasuki kepala 7, semoga tetap sehat\")\n",
    "if usia < 70 and usia >= 60:\n",
    "    print (\"sudah memasuki kepala 6, makanan harus tetap sehat yaa\")\n",
    "if usia < 60 and usia >= 50:\n",
    "    print (\"ayooo rajin olahragaa dan makan makanan sehat\")\n",
    "if usia < 50 and usia >= 40:\n",
    "    print (\"jangan terlalu lelah bekerja yaa\")\n",
    "if usia < 40 and usia >= 30:\n",
    "    print (\"selamat sudah kepala 3\")\n",
    "if usia < 30 and usia >= 20:\n",
    "    print (\"kerja lembur bagai kuda\")\n",
    "if usia < 20 and usia >= 10:\n",
    "    print (\"jangan sering begadang!!! nanti gabisa tinggi\")\n",
    "if usia < 10:\n",
    "    print (\"selamat bersenang senanggg\")"
   ]
  },
  {
   "cell_type": "markdown",
   "id": "98a2d27d",
   "metadata": {},
   "source": [
    "# MARKDOWN\n",
    "## ALGORITMA \n",
    "### MATEMATIKA \n",
    "#### MIPA\n",
    "##### UDAYANA "
   ]
  }
 ],
 "metadata": {
  "kernelspec": {
   "display_name": "Python 3 (ipykernel)",
   "language": "python",
   "name": "python3"
  },
  "language_info": {
   "codemirror_mode": {
    "name": "ipython",
    "version": 3
   },
   "file_extension": ".py",
   "mimetype": "text/x-python",
   "name": "python",
   "nbconvert_exporter": "python",
   "pygments_lexer": "ipython3",
   "version": "3.9.13"
  }
 },
 "nbformat": 4,
 "nbformat_minor": 5
}
