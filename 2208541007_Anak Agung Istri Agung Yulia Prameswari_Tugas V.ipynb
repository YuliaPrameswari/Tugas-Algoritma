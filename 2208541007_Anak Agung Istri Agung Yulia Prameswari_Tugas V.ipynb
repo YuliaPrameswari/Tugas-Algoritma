{
 "cells": [
  {
   "cell_type": "markdown",
   "id": "184772da",
   "metadata": {},
   "source": [
    "# LIST 2 DIMENSI"
   ]
  },
  {
   "cell_type": "code",
   "execution_count": 7,
   "id": "ec030b8e",
   "metadata": {},
   "outputs": [],
   "source": [
    "###############################################################################################################################\n",
    "#Nama: Anak Agung Istri Agung Yulia Prameswari\n",
    "#NIM : 2208541007\n",
    "#Kelas: A \n",
    "#Tugas V\n",
    "###############################################################################################################################"
   ]
  },
  {
   "cell_type": "code",
   "execution_count": 3,
   "id": "584108f4",
   "metadata": {},
   "outputs": [
    {
     "name": "stdout",
     "output_type": "stream",
     "text": [
      "semua matriks yaitu:  [[7, 22, 24, 26], [26, 24, 22, 7], [24, 22, 26, 7]]\n",
      "matriks baris pertama adalah:  [7, 22, 24, 26]\n",
      "matriks baris terakhir adalah:  [24, 22, 26, 7]\n"
     ]
    }
   ],
   "source": [
    "#List 2 dimensi adalah menempatkan sebuah list di dalam list.\n",
    "#Penggambarannya seperti sebuah matrik\n",
    "\n",
    "#contoh list 2 dimensi\n",
    "matrik = [\n",
    "    [7,22,24,26],\n",
    "    [26,24,22,7],\n",
    "    [24,22,26,7]\n",
    "]\n",
    "print(\"semua matriks yaitu: \", matrik)\n",
    "#pada list 2 dimensi menggunakan \"[[ ]]\"\n",
    "#matriks baris pertama akan muncul jika kita memanggil matrik 0 dan \n",
    "#matriks baris terakhir akan muncul jika kita memanggil matrik 2 pada matriks ini \n",
    "print(\"matriks baris pertama adalah: \", matrik[0])\n",
    "print(\"matriks baris terakhir adalah: \", matrik[2])"
   ]
  },
  {
   "cell_type": "code",
   "execution_count": 6,
   "id": "3dbf47a4",
   "metadata": {},
   "outputs": [
    {
     "name": "stdout",
     "output_type": "stream",
     "text": [
      "[7, 22, 24, 26]\n",
      "7\n",
      "22\n",
      "24\n",
      "26\n",
      "[26, 24, 22, 7]\n",
      "26\n",
      "24\n",
      "22\n",
      "7\n",
      "[24, 22, 26, 7]\n",
      "24\n",
      "22\n",
      "26\n",
      "7\n"
     ]
    }
   ],
   "source": [
    "for baris in matrik: \n",
    "    print(baris)\n",
    "    for kolom in baris:\n",
    "        print(kolom)\n",
    "#matriks akan dibuat baris terlebih dahulu\n",
    "#kemudian dari baris akan di bentuk menjadi kolom "
   ]
  },
  {
   "cell_type": "markdown",
   "id": "298b8c52",
   "metadata": {},
   "source": [
    "# Tuples "
   ]
  },
  {
   "cell_type": "code",
   "execution_count": 64,
   "id": "b2efccce",
   "metadata": {},
   "outputs": [
    {
     "name": "stdout",
     "output_type": "stream",
     "text": [
      "37\n",
      "\n",
      "\n",
      "(39, 40, 41)\n"
     ]
    }
   ],
   "source": [
    "#Tuples mirip dengan list, akan tetapi tuples tidak dapat dirubah isinya\n",
    "#data yang kita buat menggunakan tuples sama sekali tidak bisa dirubah isinya\n",
    "#jadi sebaiknya jika datanya masi ingin dirubah lebih baik menggunakan list saja. \n",
    "\n",
    "ukuran_sepatu = (37,38,39,40,41)\n",
    "print(ukuran_sepatu[0])\n",
    "print('\\n')\n",
    "\n",
    "print(ukuran_sepatu[2:5])\n",
    "#data dimulai dari 0 "
   ]
  },
  {
   "cell_type": "code",
   "execution_count": 33,
   "id": "cdd8d3fa",
   "metadata": {},
   "outputs": [
    {
     "name": "stdout",
     "output_type": "stream",
     "text": [
      "37\n",
      "38\n",
      "39\n",
      "40\n",
      "41\n"
     ]
    },
    {
     "ename": "AttributeError",
     "evalue": "'tuple' object has no attribute 'append'",
     "output_type": "error",
     "traceback": [
      "\u001b[1;31m---------------------------------------------------------------------------\u001b[0m",
      "\u001b[1;31mAttributeError\u001b[0m                            Traceback (most recent call last)",
      "\u001b[1;32m~\\AppData\\Local\\Temp\\ipykernel_16880\\3258796922.py\u001b[0m in \u001b[0;36m<module>\u001b[1;34m\u001b[0m\n\u001b[0;32m      4\u001b[0m \u001b[1;33m\u001b[0m\u001b[0m\n\u001b[0;32m      5\u001b[0m \u001b[1;33m\u001b[0m\u001b[0m\n\u001b[1;32m----> 6\u001b[1;33m \u001b[0mukuran_sepatu\u001b[0m\u001b[1;33m.\u001b[0m\u001b[0mappend\u001b[0m\u001b[1;33m(\u001b[0m\u001b[1;36m42\u001b[0m\u001b[1;33m)\u001b[0m\u001b[1;33m\u001b[0m\u001b[1;33m\u001b[0m\u001b[0m\n\u001b[0m\u001b[0;32m      7\u001b[0m \u001b[0mukuran_sepatu\u001b[0m\u001b[1;33m.\u001b[0m\u001b[0mremove\u001b[0m\u001b[1;33m(\u001b[0m\u001b[1;36m38\u001b[0m\u001b[1;33m)\u001b[0m\u001b[1;33m\u001b[0m\u001b[1;33m\u001b[0m\u001b[0m\n",
      "\u001b[1;31mAttributeError\u001b[0m: 'tuple' object has no attribute 'append'"
     ]
    }
   ],
   "source": [
    "#mengurutkan data menjadi kolom \n",
    "for isi in ukuran_sepatu [0:5]:\n",
    "    print (isi)\n",
    "\n",
    "#kita coba tambahkan 42 pada 'ukuran_sepatu'    \n",
    "ukuran_sepatu.append(42)\n",
    "#setelah di panggil ternyata tidak bisa, hasil yang dikeluarkan error\n",
    "\n",
    "#kita coba untuk hapus 38 dari 'ukuran_sepatu'\n",
    "ukuran_sepatu.remove(38)\n",
    "#setelah di panggil hasilnya error\n",
    "#hal ini terjadi karena pada tuples tidak bisa menambah, mengurangi maupun mengubah apapun "
   ]
  },
  {
   "cell_type": "markdown",
   "id": "b20b4641",
   "metadata": {},
   "source": [
    "# Dictionaries"
   ]
  },
  {
   "cell_type": "code",
   "execution_count": 13,
   "id": "ceed1338",
   "metadata": {},
   "outputs": [
    {
     "name": "stdout",
     "output_type": "stream",
     "text": [
      "nama:  gung gek swari\n",
      "umur:  17\n",
      "apakah perempuan?  True\n"
     ]
    }
   ],
   "source": [
    "#Dictionaries digunakan jika data nya terkait satu sama lain\n",
    "#Misalnya data seseorang yang terdiri dari umur, nama, tanggal lahir \n",
    "#merupakan satu kesatuan data yang bersumber dari orang tersebut\n",
    "\n",
    "data_orang = {\n",
    "    \"nama\" : \"gung gek swari\",\n",
    "    \"umur\" : 17, \n",
    "    \"perempuan\" : True \n",
    "}\n",
    "print(\"nama: \", data_orang ['nama'])\n",
    "print(\"umur: \", data_orang ['umur'])\n",
    "print(\"apakah perempuan? \", data_orang ['perempuan'])\n"
   ]
  },
  {
   "cell_type": "code",
   "execution_count": 17,
   "id": "4e67763c",
   "metadata": {},
   "outputs": [
    {
     "name": "stdout",
     "output_type": "stream",
     "text": [
      "None\n",
      "19 07 2005\n"
     ]
    },
    {
     "ename": "TypeError",
     "evalue": "'dict' object is not callable",
     "output_type": "error",
     "traceback": [
      "\u001b[1;31m---------------------------------------------------------------------------\u001b[0m",
      "\u001b[1;31mTypeError\u001b[0m                                 Traceback (most recent call last)",
      "\u001b[1;32m~\\AppData\\Local\\Temp\\ipykernel_16880\\1316142409.py\u001b[0m in \u001b[0;36m<module>\u001b[1;34m\u001b[0m\n\u001b[0;32m      8\u001b[0m \u001b[1;31m#data tersebut bersifat sementara\u001b[0m\u001b[1;33m\u001b[0m\u001b[1;33m\u001b[0m\u001b[0m\n\u001b[0;32m      9\u001b[0m \u001b[1;33m\u001b[0m\u001b[0m\n\u001b[1;32m---> 10\u001b[1;33m \u001b[0mprint\u001b[0m\u001b[1;33m(\u001b[0m\u001b[0mdata_orang\u001b[0m\u001b[1;33m(\u001b[0m\u001b[1;34m\"tanggal_lahir\"\u001b[0m\u001b[1;33m)\u001b[0m\u001b[1;33m)\u001b[0m\u001b[1;33m\u001b[0m\u001b[1;33m\u001b[0m\u001b[0m\n\u001b[0m\u001b[0;32m     11\u001b[0m \u001b[1;31m#saat kita memangil data ini lagi maka akan error karena tanggal lahir ini tidak masuk ke dalam data\u001b[0m\u001b[1;33m\u001b[0m\u001b[1;33m\u001b[0m\u001b[0m\n",
      "\u001b[1;31mTypeError\u001b[0m: 'dict' object is not callable"
     ]
    }
   ],
   "source": [
    "print(data_orang.get(\"tanggal_lahir\"))\n",
    "#tanggal lahir  ini akan menampilkan 'none' karena tidak ada pada 'data_orang'\n",
    "#jika ingin menambahkan data maka harus memasukan nama data dan datanya \n",
    "\n",
    "print(data_orang.get(\"tanggal_lahir\", \"19 07 2005\"))\n",
    "#ini akan muncul jika kita mengisi nama data dan datanya langsung\n",
    "#karena jika hanya memanggil nama data tanpa datanya lansung maka hasilnya akan 'none'\n",
    "#data tersebut bersifat sementara \n",
    "\n",
    "print(data_orang(\"tanggal_lahir\"))\n",
    "#saat kita memangil data ini lagi maka akan error karena tanggal lahir ini tidak masuk ke dalam data "
   ]
  },
  {
   "cell_type": "code",
   "execution_count": 18,
   "id": "c4873d16",
   "metadata": {},
   "outputs": [
    {
     "name": "stdout",
     "output_type": "stream",
     "text": [
      "{'nama': 'gung gek swari', 'umur': 17, 'perempuan': True}\n"
     ]
    }
   ],
   "source": [
    "print(data_orang)\n",
    "#walaupun tadi kita ada menambahkan data \"tanggal lahir\" tetapi dia tidak akan muncul jika kita memanggil \"data_orang\"\n",
    "#karena data.get hanya akan ada saat data itu dijabarkan saja, seperti di atas"
   ]
  },
  {
   "cell_type": "markdown",
   "id": "e18f937a",
   "metadata": {},
   "source": [
    "# Fungsi dalam Python"
   ]
  },
  {
   "cell_type": "code",
   "execution_count": 38,
   "id": "2bea6042",
   "metadata": {},
   "outputs": [
    {
     "name": "stdout",
     "output_type": "stream",
     "text": [
      "jika jarak tempuh sebuah sepeda motor adalah 50 km dengan kecepatan motor 80 km/jam\n",
      "maka sepeda motor akan sampai pada tempat tujuan setelah 0.625 jam\n"
     ]
    }
   ],
   "source": [
    "#Fungsi dalam Python dibentuk untuk menghidari pengulangan pembuatan program secara manual\n",
    "#dimana fungsi tersebut memiliki pengulangan yang tinggi dalam program yang kita buat\n",
    "\n",
    "#jebarkan pengoperasian waktu_sampai\n",
    "def waktu_sampai (jarak,kecepatan):\n",
    "    waktu = jarak/kecepatan \n",
    "    return waktu \n",
    "\n",
    "y = waktu_sampai (50,80)\n",
    "#variabel a berfungsi untuk memanggil waktu_sampai \n",
    "#jaraknya adalah 50 km dan kecepatannya adalah 80 km/jam\n",
    "print (\"jika jarak tempuh sebuah sepeda motor adalah 50 km dengan kecepatan motor 80 km/jam\")\n",
    "print (\"maka sepeda motor akan sampai pada tempat tujuan setelah\" , y , \"jam\")"
   ]
  },
  {
   "cell_type": "markdown",
   "id": "63e47843",
   "metadata": {},
   "source": [
    "# Numpy"
   ]
  },
  {
   "cell_type": "code",
   "execution_count": 28,
   "id": "5a5f7b55",
   "metadata": {},
   "outputs": [],
   "source": [
    "#Numpy merupakan salah satu Library dalam Python yang memiliki keunggulan\n",
    "#dalam perhitungan menggunakan vektor dam matrik dalam berbagai dimensi\n",
    "#Hal pertama yang perlu dilakukan adalah memanggil Library Numpy\n",
    "\n",
    "import numpy as np "
   ]
  },
  {
   "cell_type": "markdown",
   "id": "e881b469",
   "metadata": {},
   "source": [
    "## Perintah Dasar pada Numpy"
   ]
  },
  {
   "cell_type": "code",
   "execution_count": 29,
   "id": "4db96892",
   "metadata": {},
   "outputs": [
    {
     "name": "stdout",
     "output_type": "stream",
     "text": [
      "data a yaitu: \n",
      "[ 7 22 24 26]\n",
      "\n",
      "\n",
      "data b yaitu: \n",
      "[[1 2 3]\n",
      " [4 5 6]\n",
      " [7 8 9]]\n",
      "\n",
      "\n",
      "data c yaitu: \n",
      "[[[ 1  2  3]\n",
      "  [ 3  4  5]]\n",
      "\n",
      " [[ 6  7  8]\n",
      "  [ 9 10 11]]\n",
      "\n",
      " [[12 13 14]\n",
      "  [15 16 17]]]\n",
      "\n",
      "\n",
      "banyak kolom pada data c dan\n",
      "banyak baris pada data b adalah\n"
     ]
    },
    {
     "data": {
      "text/plain": [
       "(3, 3)"
      ]
     },
     "execution_count": 29,
     "metadata": {},
     "output_type": "execute_result"
    }
   ],
   "source": [
    "a = np.array([7,22,24,26])\n",
    "print(\"data a yaitu: \")\n",
    "print(a)\n",
    "print('\\n')\n",
    "#numpy akan menjadikan array sebagai matriks \n",
    "#data dalam '[ ]' akan menjadi baris \n",
    "\n",
    "b = np.array([[1,2,3],[4,5,6],[7,8,9]])\n",
    "print(\"data b yaitu: \")\n",
    "print(b)\n",
    "print('\\n')\n",
    "#numpy akan menjadikan array sebagai matriks \n",
    "#data dalam '[[ ]]' akan menjadi kolom\n",
    "\n",
    "c = np.array([[[1,2,3], [3,4,5]],\n",
    "             [[6,7,8], [9,10,11]],\n",
    "             [[12,13,14], [15,16,17]]])\n",
    "print(\"data c yaitu: \")\n",
    "print(c)\n",
    "print('\\n')\n",
    "#numpy akan menjadikan array sebagai matriks \n",
    "#data dalam '[[[ ]]]' akan menjadi kolom dan setiap '[[ ]]' akan berisi spasi\n",
    "\n",
    "print(\"banyak kolom pada data c dan\")\n",
    "c.ndim\n",
    "#ndim adalah untuk menampilkan banyaknya baris dalam suatu data \n",
    "print(\"banyak baris pada data b adalah\")\n",
    "b.shape\n",
    "#shape adalah untuk menampilkan banyaknya kolom dalam suatu data \n",
    "#jika kita memanggil dengan cara ini maka hasil yang keluar akan menjadi satu \n",
    "#karena out dalam satu comment hanya bisa satu out\n",
    "#jadi hasil yang akan ditampilkan adalah (3,3)\n",
    "#kolom pada data c adalah 3 dan baris pada data b adalah 3"
   ]
  },
  {
   "cell_type": "markdown",
   "id": "537a9e6c",
   "metadata": {},
   "source": [
    "## Memanggil Anggota, Kolom dan Baris dengan Numpy"
   ]
  },
  {
   "cell_type": "code",
   "execution_count": 30,
   "id": "48cd9ed8",
   "metadata": {},
   "outputs": [
    {
     "name": "stdout",
     "output_type": "stream",
     "text": [
      "[[1 2 3]\n",
      " [4 5 6]\n",
      " [7 8 9]]\n",
      "\n",
      "\n"
     ]
    },
    {
     "data": {
      "text/plain": [
       "3"
      ]
     },
     "execution_count": 30,
     "metadata": {},
     "output_type": "execute_result"
    }
   ],
   "source": [
    "b = np.array([[1,2,3],[4,5,6],[7,8,9]])\n",
    "print(b)\n",
    "print('\\n')\n",
    "#data tersebut akan terlihat pada hasil menjadi kolom \n",
    "\n",
    "#b[baris data, kolom data]\n",
    "#semuanya dihitung mulai dari 0 \n",
    "b[0,2]\n",
    "#berarti memanggil baris pertama kolom ke tiga \n",
    "#pada data terbetu angka yang menempati baris pertama kolom ke tiga adalah angka 3 "
   ]
  },
  {
   "cell_type": "code",
   "execution_count": 31,
   "id": "23c03434",
   "metadata": {},
   "outputs": [
    {
     "data": {
      "text/plain": [
       "array([1, 2, 3])"
      ]
     },
     "execution_count": 31,
     "metadata": {},
     "output_type": "execute_result"
    }
   ],
   "source": [
    "b[0,:]\n",
    "#memanggil semua baris pertama "
   ]
  },
  {
   "cell_type": "code",
   "execution_count": 32,
   "id": "3eef7a7a",
   "metadata": {},
   "outputs": [
    {
     "name": "stdout",
     "output_type": "stream",
     "text": [
      "[[100   2   3]\n",
      " [  4   5   6]\n",
      " [  7   8   9]]\n"
     ]
    }
   ],
   "source": [
    "b[0,0] = 100\n",
    "#ini akan mengubah data b baris pertama kolom pertama dari angka 1 menjadi 100\n",
    "print(b)"
   ]
  },
  {
   "cell_type": "markdown",
   "id": "af8cb474",
   "metadata": {},
   "source": [
    "##  Matrix pada Numpy"
   ]
  },
  {
   "cell_type": "code",
   "execution_count": 33,
   "id": "b38809cb",
   "metadata": {},
   "outputs": [
    {
     "data": {
      "text/plain": [
       "array([[1., 1., 1.],\n",
       "       [1., 1., 1.]])"
      ]
     },
     "execution_count": 33,
     "metadata": {},
     "output_type": "execute_result"
    }
   ],
   "source": [
    "np.ones((2,3))\n",
    "#ones berarti membuat semua entri pada matriks tersebut menjadi angka 1\n",
    "#membuat matriks ordo 2x3 dengan entri 1"
   ]
  },
  {
   "cell_type": "code",
   "execution_count": 34,
   "id": "ad807aa1",
   "metadata": {},
   "outputs": [
    {
     "data": {
      "text/plain": [
       "array([[0., 0.],\n",
       "       [0., 0.],\n",
       "       [0., 0.]])"
      ]
     },
     "execution_count": 34,
     "metadata": {},
     "output_type": "execute_result"
    }
   ],
   "source": [
    "np.zeros((3,2))\n",
    "#ones berarti membuat semua entri pada matriks tersebut menjadi angka 0\n",
    "#membuat matriks ordo 3x2 dengan entri 0"
   ]
  },
  {
   "cell_type": "code",
   "execution_count": 35,
   "id": "e88496f1",
   "metadata": {},
   "outputs": [
    {
     "data": {
      "text/plain": [
       "array([[1., 0., 0., 0.],\n",
       "       [0., 1., 0., 0.],\n",
       "       [0., 0., 1., 0.],\n",
       "       [0., 0., 0., 1.]])"
      ]
     },
     "execution_count": 35,
     "metadata": {},
     "output_type": "execute_result"
    }
   ],
   "source": [
    "np.identity(4)\n",
    "#identity digunakan untuk matriks identitas\n",
    "#matriks dengan ordo 4x4"
   ]
  },
  {
   "cell_type": "code",
   "execution_count": 36,
   "id": "4c96e27e",
   "metadata": {},
   "outputs": [
    {
     "data": {
      "text/plain": [
       "array([[9, 9],\n",
       "       [9, 9],\n",
       "       [9, 9]])"
      ]
     },
     "execution_count": 36,
     "metadata": {},
     "output_type": "execute_result"
    }
   ],
   "source": [
    "np.full((3,2),9)\n",
    "#membentuk array dengan satu bentuk entri pada seluruh data \n",
    "#pada percobaan ini menggunakan angka 9"
   ]
  },
  {
   "cell_type": "code",
   "execution_count": 37,
   "id": "4344a501",
   "metadata": {},
   "outputs": [
    {
     "data": {
      "text/plain": [
       "array([[6, 1, 7, 2],\n",
       "       [9, 3, 9, 2],\n",
       "       [8, 3, 3, 1]])"
      ]
     },
     "execution_count": 37,
     "metadata": {},
     "output_type": "execute_result"
    }
   ],
   "source": [
    "np.random.randint(1,10,size=(3,4))\n",
    "#random.randint untuk membentuk data array yang berisi angka random namun dengan batas yang telah di tentukan \n",
    "#size disini merupakan batas(1,10,size) jadi batas pada percobaan ini adalah 1 sampai 10 \n",
    "#kemudian (..,..,size = (3,4)) merupakan ordonya jadi matriks ini nanti terdiri dari 3 baris 4 kolom "
   ]
  },
  {
   "cell_type": "markdown",
   "id": "41ced451",
   "metadata": {},
   "source": [
    "## Copy pada Numpy"
   ]
  },
  {
   "cell_type": "code",
   "execution_count": 38,
   "id": "5474647b",
   "metadata": {},
   "outputs": [
    {
     "name": "stdout",
     "output_type": "stream",
     "text": [
      "[ 7 22 24 26]\n",
      "[ 7 22 24 26]\n",
      "\n",
      "\n",
      "coppy\n",
      "[ 7 22 24 26]\n",
      "\n",
      "\n",
      "diubah\n",
      "[10 22 24 26]\n",
      "\n",
      "\n",
      "[ 7 22 24 26]\n"
     ]
    }
   ],
   "source": [
    "a = np.array([7,22,24,26])\n",
    "print(\"data a\")\n",
    "print(a)\n",
    "print('\\n')\n",
    "\n",
    "b = a.copy()\n",
    "print(\"coppy\")\n",
    "print(b)\n",
    "print('\\n')\n",
    "#copy data menggunakan fungsi copy\n",
    "#a merupakan data aslinya dan b adalah copy-an \n",
    "\n",
    "b[0] = 10\n",
    "print(\"diubah\")\n",
    "print(b)\n",
    "print('\\n')\n",
    "#ubah data b yang merupakan copy-an \n",
    "#angka pertama diubah menjadi angka 10\n",
    "#jadi data b hasilnya akan [10 22 24 26]\n",
    "\n",
    "print(\"data a\")\n",
    "print(a)\n",
    "#data a akan tetap sama seperti awal tidak berubah sama sekali \n",
    "#karena yang diubah adalah copy-an nya yaitu data b"
   ]
  },
  {
   "cell_type": "markdown",
   "id": "890405e0",
   "metadata": {},
   "source": [
    "## Operasi Matematika pada Numpy"
   ]
  },
  {
   "cell_type": "code",
   "execution_count": 39,
   "id": "20fa7d66",
   "metadata": {},
   "outputs": [
    {
     "name": "stdout",
     "output_type": "stream",
     "text": [
      "[1 2 3 4]\n",
      "[ 7 22 24 26]\n"
     ]
    }
   ],
   "source": [
    "a= np.array([1,2,3,4])\n",
    "print(a)\n",
    "b = np.array([7,22,24,26])\n",
    "print(b)\n",
    "#masukkan dulu data yang ini di operasikan "
   ]
  },
  {
   "cell_type": "code",
   "execution_count": 40,
   "id": "b4776cb0",
   "metadata": {},
   "outputs": [
    {
     "data": {
      "text/plain": [
       "array([ 8, 24, 27, 30])"
      ]
     },
     "execution_count": 40,
     "metadata": {},
     "output_type": "execute_result"
    }
   ],
   "source": [
    "#tanda + adalah operasi penjumlahan\n",
    "a+b"
   ]
  },
  {
   "cell_type": "code",
   "execution_count": 41,
   "id": "b3635349",
   "metadata": {},
   "outputs": [
    {
     "data": {
      "text/plain": [
       "array([0, 0, 0, 0])"
      ]
     },
     "execution_count": 41,
     "metadata": {},
     "output_type": "execute_result"
    }
   ],
   "source": [
    "#tanda - adalah operasi pengurangan \n",
    "b-b"
   ]
  },
  {
   "cell_type": "code",
   "execution_count": 42,
   "id": "1e4f24fd",
   "metadata": {},
   "outputs": [
    {
     "data": {
      "text/plain": [
       "array([ 1,  8, 27, 64], dtype=int32)"
      ]
     },
     "execution_count": 42,
     "metadata": {},
     "output_type": "execute_result"
    }
   ],
   "source": [
    "#tanda ** adalah operasi pangkat \n",
    "a**3"
   ]
  },
  {
   "cell_type": "code",
   "execution_count": 43,
   "id": "e3589204",
   "metadata": {},
   "outputs": [
    {
     "data": {
      "text/plain": [
       "array([ 7. , 11. ,  8. ,  6.5])"
      ]
     },
     "execution_count": 43,
     "metadata": {},
     "output_type": "execute_result"
    }
   ],
   "source": [
    "#tanda / adalah operasi pembagian \n",
    "b/a"
   ]
  },
  {
   "cell_type": "code",
   "execution_count": 44,
   "id": "eb93743c",
   "metadata": {},
   "outputs": [
    {
     "data": {
      "text/plain": [
       "array([ 1.55740772, -2.18503986, -0.14254654,  1.15782128])"
      ]
     },
     "execution_count": 44,
     "metadata": {},
     "output_type": "execute_result"
    }
   ],
   "source": [
    "#np.tan adalah operasi dari pembentukan nilai tan dari data\n",
    "np.tan(a)"
   ]
  },
  {
   "cell_type": "markdown",
   "id": "69390d94",
   "metadata": {},
   "source": [
    "## Perkalian Matrik pada Numpy"
   ]
  },
  {
   "cell_type": "code",
   "execution_count": 53,
   "id": "3383cf23",
   "metadata": {},
   "outputs": [
    {
     "name": "stdout",
     "output_type": "stream",
     "text": [
      "matriks p\n",
      "[[1 2 3 4]\n",
      " [5 6 7 8]]\n",
      "\n",
      "\n",
      "matriks q\n",
      "[[ 7 22 24 26]\n",
      " [ 2  4  6  8]]\n",
      "\n",
      "\n",
      "perkalian masing masing entri p dan q\n",
      "[[  7  44  72 104]\n",
      " [ 10  24  42  64]]\n",
      "\n",
      "\n",
      "perkalian matriks p dan s\n",
      "[[ 50  60]\n",
      " [114 140]]\n"
     ]
    }
   ],
   "source": [
    "import numpy as np\n",
    "p = np.array([[1,2,3,4],[5,6,7,8]])\n",
    "print(\"matriks p\")\n",
    "print(p)\n",
    "print('\\n')\n",
    "\n",
    "q = np.array([[7,22,24,26],[2,4,6,8]])\n",
    "print(\"matriks q\")\n",
    "print(q)\n",
    "print('\\n')\n",
    "\n",
    "r = p*q\n",
    "print(\"perkalian masing masing entri p dan q\")\n",
    "print (r)\n",
    "print('\\n')\n",
    "#tanda * akan mengalikan masing masing entri\n",
    "#r= data p dikali data q \n",
    "\n",
    "s = ([[1,2],[3,4],[5,6],[7,8]])\n",
    "t = np.matmul(p,s)\n",
    "print(\"perkalian matriks p dan s\")\n",
    "print(t)\n",
    "#matmul berfungsi untuk mengalikan dua matriks \n",
    "#pada t di minta matriks pxs "
   ]
  },
  {
   "cell_type": "markdown",
   "id": "2a675dd9",
   "metadata": {},
   "source": [
    "## min, max dan sum pada Numpy"
   ]
  },
  {
   "cell_type": "code",
   "execution_count": 62,
   "id": "89314f81",
   "metadata": {},
   "outputs": [
    {
     "name": "stdout",
     "output_type": "stream",
     "text": [
      "array data c\n",
      "[[1 2 3]\n",
      " [3 4 5]\n",
      " [6 7 8]]\n",
      "\n",
      "\n",
      "nilai minimum\n",
      "1\n",
      "\n",
      "\n",
      "nilai minimum baris\n",
      "[1 2 3]\n",
      "\n",
      "\n",
      "nilai minimum kolom\n",
      "[1 3 6]\n",
      "\n",
      "\n",
      "nilai maksimum\n",
      "8\n",
      "\n",
      "\n",
      "nilai maksimum baris\n",
      "[6 7 8]\n",
      "\n",
      "\n",
      "nilai maksimum kolom\n",
      "[3 5 8]\n",
      "\n",
      "\n",
      "jumlah seluruh data\n",
      "39\n",
      "\n",
      "\n",
      "jumlah data baris\n",
      "[10 13 16]\n",
      "\n",
      "\n",
      "jumlah data kolom\n",
      "[ 6 12 21]\n"
     ]
    }
   ],
   "source": [
    "import numpy as np\n",
    "c = np.array([[1,2,3], \n",
    "              [3,4,5],\n",
    "              [6,7,8] ])\n",
    "print(\"array data c\")\n",
    "print(c)\n",
    "print('\\n')\n",
    "\n",
    "#\"min\" digunakan untuk mencari data minimum \n",
    "h = np.min(c)\n",
    "print(\"nilai minimum\")\n",
    "print(h)\n",
    "print('\\n')\n",
    "\n",
    "#\"min axis=0\" digunakan untuk mencari data minimum pada baris data \n",
    "#axis=0 menunjukan baris\n",
    "z = np.min(c, axis=0)\n",
    "print(\"nilai minimum baris\")\n",
    "print(z)\n",
    "print('\\n')\n",
    "\n",
    "#\"min axis=1\" digunakan untuk mencari data minimum pada kolom data \n",
    "#axis=1 menunjukan kolom\n",
    "f = np.min(c, axis=1)\n",
    "print(\"nilai minimum kolom\")\n",
    "print(f)\n",
    "print('\\n')\n",
    "\n",
    "#\"max\" digunakan untuk mencari data maksimum\n",
    "g = np.max(c)\n",
    "print(\"nilai maksimum\")\n",
    "print(g)\n",
    "print('\\n')\n",
    "\n",
    "#\"max axis=0\" digunakan untuk mencari data maksimum pada baris data \n",
    "#axis=0 menunjukan baris\n",
    "i = np.max(c, axis=0)\n",
    "print(\"nilai maksimum baris\")\n",
    "print(i)\n",
    "print('\\n')\n",
    "\n",
    "#\"max axis=1\" digunakan untuk mencari data maksimum pada kolom data \n",
    "#axis=1 menunjukan kolom\n",
    "j = np.max(c, axis=1)\n",
    "print(\"nilai maksimum kolom\")\n",
    "print(j)\n",
    "print('\\n')\n",
    "\n",
    "#\"sum\" digunakan untuk menghitung jumlah seluruh data\n",
    "k = np.sum(c)\n",
    "print(\"jumlah seluruh data\")\n",
    "print(k)\n",
    "print('\\n')\n",
    "\n",
    "#\"sum axis=0\" digunakan untuk menghitung jumlah data pada baris \n",
    "#axis=0 menunjukan baris\n",
    "l = np.sum(c, axis=0)\n",
    "print(\"jumlah data baris\")\n",
    "print(l)\n",
    "print('\\n')\n",
    "\n",
    "#\"sum axis=1\" digunakan untuk menghitung jumlah data pada kolom  \n",
    "#axis=1 menunjukan kolom\n",
    "m = np.sum(c, axis=1)\n",
    "print(\"jumlah data kolom\")\n",
    "print(m)"
   ]
  }
 ],
 "metadata": {
  "kernelspec": {
   "display_name": "Python 3 (ipykernel)",
   "language": "python",
   "name": "python3"
  },
  "language_info": {
   "codemirror_mode": {
    "name": "ipython",
    "version": 3
   },
   "file_extension": ".py",
   "mimetype": "text/x-python",
   "name": "python",
   "nbconvert_exporter": "python",
   "pygments_lexer": "ipython3",
   "version": "3.9.13"
  }
 },
 "nbformat": 4,
 "nbformat_minor": 5
}
