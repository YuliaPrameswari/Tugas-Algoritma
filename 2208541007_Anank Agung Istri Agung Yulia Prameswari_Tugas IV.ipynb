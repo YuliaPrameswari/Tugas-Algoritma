{
 "cells": [
  {
   "cell_type": "code",
   "execution_count": null,
   "id": "0c08a40f",
   "metadata": {},
   "outputs": [],
   "source": [
    "#Nama: Anak Agung Istri Agung Yulia Prameswari\n",
    "#NIM: 2208541007\n",
    "#Kelas: A\n",
    "#Tugas IV"
   ]
  },
  {
   "cell_type": "markdown",
   "id": "37e8a971",
   "metadata": {},
   "source": [
    "# WHILE LOOP"
   ]
  },
  {
   "cell_type": "code",
   "execution_count": null,
   "id": "d8f0b3f7",
   "metadata": {},
   "outputs": [],
   "source": [
    "#While Loop akan selalu dieksekusi selama nilainta True dan akan berhenti saat nilainya menjadi False \n",
    "x = 0 \n",
    "while x > 2:\n",
    "    y = x**2\n",
    "    x = x - 1\n",
    "    print(x)\n",
    "#hasilnya tidak keluar karena data ini salah "
   ]
  },
  {
   "cell_type": "code",
   "execution_count": 5,
   "id": "f0f2210a",
   "metadata": {},
   "outputs": [
    {
     "name": "stdout",
     "output_type": "stream",
     "text": [
      "angka 0 masih dibawah 5\n",
      "angka 1 masih dibawah 5\n",
      "angka 2 masih dibawah 5\n",
      "angka 3 masih dibawah 5\n",
      "angka 4 masih dibawah 5\n"
     ]
    }
   ],
   "source": [
    "a = 0\n",
    "while a < 5: \n",
    "    print(\"angka \" + str(a) + \" masih dibawah 5\")\n",
    "    a += 1"
   ]
  },
  {
   "cell_type": "code",
   "execution_count": 6,
   "id": "ce9d7f13",
   "metadata": {},
   "outputs": [
    {
     "name": "stdout",
     "output_type": "stream",
     "text": [
      "\n",
      " *\n",
      " * *\n",
      " * * *\n",
      " * * * *\n"
     ]
    }
   ],
   "source": [
    "a = 0\n",
    "while a < 5: \n",
    "    print(a*  \" *\")\n",
    "    a += 1"
   ]
  },
  {
   "cell_type": "code",
   "execution_count": 6,
   "id": "109e6a7f",
   "metadata": {},
   "outputs": [
    {
     "name": "stdout",
     "output_type": "stream",
     "text": [
      "angka 1 masih dibawah 9\n",
      "angka 2 masih dibawah 9\n",
      "angka 3 masih dibawah 9\n",
      "angka 4 masih dibawah 9\n",
      "angka 5 masih dibawah 9\n",
      "angka 6 masih dibawah 9\n",
      "angka 7 masih dibawah 9\n",
      "angka 8 masih dibawah 9\n"
     ]
    }
   ],
   "source": [
    "a = 1\n",
    "while a < 9: \n",
    "    print(\"angka \" + str(a) + \" masih dibawah 9\")\n",
    "    a += 1"
   ]
  },
  {
   "cell_type": "markdown",
   "id": "7c77f236",
   "metadata": {},
   "source": [
    "# LIST"
   ]
  },
  {
   "cell_type": "code",
   "execution_count": 32,
   "id": "835fbfc8",
   "metadata": {},
   "outputs": [
    {
     "name": "stdout",
     "output_type": "stream",
     "text": [
      "['ungu', 'pink', 'biru', 'kuning']\n"
     ]
    }
   ],
   "source": [
    "#List dapat digunakan saat mempresentasika objek dalam Python berupa string atau angka\n",
    "warna = [\"ungu\", \"pink\", \"biru\", \"kuning\"]\n",
    "print(warna)"
   ]
  },
  {
   "cell_type": "code",
   "execution_count": 33,
   "id": "f5b050d6",
   "metadata": {},
   "outputs": [
    {
     "name": "stdout",
     "output_type": "stream",
     "text": [
      "ungu\n"
     ]
    }
   ],
   "source": [
    "print(warna[0])"
   ]
  },
  {
   "cell_type": "code",
   "execution_count": 34,
   "id": "8d9162f4",
   "metadata": {},
   "outputs": [
    {
     "name": "stdout",
     "output_type": "stream",
     "text": [
      "biru\n"
     ]
    }
   ],
   "source": [
    "print(warna[-2])"
   ]
  },
  {
   "cell_type": "code",
   "execution_count": 35,
   "id": "c73cccc6",
   "metadata": {},
   "outputs": [
    {
     "name": "stdout",
     "output_type": "stream",
     "text": [
      "['ungu', 'hitam', 'biru', 'kuning']\n"
     ]
    }
   ],
   "source": [
    "warna[1] = 'hitam'\n",
    "print(warna)"
   ]
  },
  {
   "cell_type": "code",
   "execution_count": 36,
   "id": "911ad8b7",
   "metadata": {},
   "outputs": [
    {
     "name": "stdout",
     "output_type": "stream",
     "text": [
      "['hitam', 'biru']\n"
     ]
    }
   ],
   "source": [
    "print(warna[1:3])\n",
    "#data pertama adalah ungu, namun pada list jika kita mengetik 1 maka yang keluar adalah data kedua,  seperti data ini"
   ]
  },
  {
   "cell_type": "markdown",
   "id": "8f86e621",
   "metadata": {},
   "source": [
    "# METODA LIST"
   ]
  },
  {
   "cell_type": "code",
   "execution_count": 23,
   "id": "53d40310",
   "metadata": {},
   "outputs": [
    {
     "name": "stdout",
     "output_type": "stream",
     "text": [
      "['anak', 'agung', 'istri', 'agung', 'yulia', 'prameswari']\n"
     ]
    }
   ],
   "source": [
    "#Karena list merupakan objek, maka keberadaannya dapat dimanipulasi dengan\n",
    "#menambahkan atau menghilangkan isi nya.\n",
    "nama = ['anak', 'agung', 'istri', 'agung', 'yulia']\n",
    "nama.append('prameswari')\n",
    "print (nama)"
   ]
  },
  {
   "cell_type": "code",
   "execution_count": 24,
   "id": "c998c503",
   "metadata": {},
   "outputs": [
    {
     "name": "stdout",
     "output_type": "stream",
     "text": [
      "False\n"
     ]
    }
   ],
   "source": [
    "print ('Clara' in nama)"
   ]
  },
  {
   "cell_type": "code",
   "execution_count": 25,
   "id": "e0cbb113",
   "metadata": {},
   "outputs": [
    {
     "name": "stdout",
     "output_type": "stream",
     "text": [
      "False\n"
     ]
    }
   ],
   "source": [
    "print ('Prameswari' in nama)\n",
    "#walau kata prameswari ada pada data namun jika beda penulisan maka akan tetap false "
   ]
  },
  {
   "cell_type": "code",
   "execution_count": 26,
   "id": "ac817458",
   "metadata": {},
   "outputs": [
    {
     "name": "stdout",
     "output_type": "stream",
     "text": [
      "True\n"
     ]
    }
   ],
   "source": [
    "print ('prameswari' in nama)"
   ]
  },
  {
   "cell_type": "code",
   "execution_count": 27,
   "id": "cd13f8b0",
   "metadata": {},
   "outputs": [
    {
     "name": "stdout",
     "output_type": "stream",
     "text": [
      "6\n"
     ]
    }
   ],
   "source": [
    "print(len(nama))"
   ]
  },
  {
   "cell_type": "code",
   "execution_count": 18,
   "id": "ad2b63af",
   "metadata": {},
   "outputs": [
    {
     "name": "stdout",
     "output_type": "stream",
     "text": [
      "['22', '08541', '007']\n"
     ]
    }
   ],
   "source": [
    "nim = ['22', '08541', '007']\n",
    "print(nim)"
   ]
  },
  {
   "cell_type": "code",
   "execution_count": 19,
   "id": "579a2e8f",
   "metadata": {},
   "outputs": [
    {
     "name": "stdout",
     "output_type": "stream",
     "text": [
      "['22', '007']\n"
     ]
    }
   ],
   "source": [
    "nim.remove('08541')\n",
    "print(nim)"
   ]
  },
  {
   "cell_type": "markdown",
   "id": "057ebd49",
   "metadata": {},
   "source": [
    "# FOR LOOP"
   ]
  },
  {
   "cell_type": "code",
   "execution_count": 3,
   "id": "dffe77c0",
   "metadata": {},
   "outputs": [
    {
     "name": "stdout",
     "output_type": "stream",
     "text": [
      "['ungu', 'pink', 'biru', 'kuning']\n",
      "['ungu', 'pink', 'biru', 'kuning']\n",
      "['ungu', 'pink', 'biru', 'kuning']\n",
      "['ungu', 'pink', 'biru', 'kuning']\n"
     ]
    }
   ],
   "source": [
    "# For loop dapat digunakan untuk memanggil semua isi list. \n",
    "warna = [\"ungu\", \"pink\", \"biru\", \"kuning\"]\n",
    "for jenis in warna: \n",
    "    print(warna)"
   ]
  },
  {
   "cell_type": "code",
   "execution_count": 4,
   "id": "232953e0",
   "metadata": {},
   "outputs": [
    {
     "name": "stdout",
     "output_type": "stream",
     "text": [
      "ungu\n",
      "pink\n",
      "biru\n",
      "kuning\n"
     ]
    }
   ],
   "source": [
    "warna = [\"ungu\", \"pink\", \"biru\", \"kuning\"]\n",
    "for jenis in warna: \n",
    "    print(jenis)"
   ]
  },
  {
   "cell_type": "code",
   "execution_count": 5,
   "id": "e0e74cbd",
   "metadata": {},
   "outputs": [
    {
     "name": "stdout",
     "output_type": "stream",
     "text": [
      "ungu\n",
      "pink\n",
      "biru\n",
      "kuning\n"
     ]
    }
   ],
   "source": [
    "for i in range (len(warna)):\n",
    "    print(warna[i])"
   ]
  },
  {
   "cell_type": "code",
   "execution_count": 6,
   "id": "e694356e",
   "metadata": {},
   "outputs": [
    {
     "name": "stdout",
     "output_type": "stream",
     "text": [
      "ungu\n",
      "pink\n",
      "biru\n",
      "kuning\n"
     ]
    }
   ],
   "source": [
    "i = 0\n",
    "while i < len(warna):\n",
    "    print(warna[i])\n",
    "    i+=1"
   ]
  },
  {
   "cell_type": "code",
   "execution_count": 7,
   "id": "295a713f",
   "metadata": {},
   "outputs": [
    {
     "name": "stdout",
     "output_type": "stream",
     "text": [
      "['HIndu', 'Kristen', 'Katolik', 'Budha', 'Islam', 'Konghucu']\n",
      "['HIndu', 'Kristen', 'Katolik', 'Budha', 'Islam', 'Konghucu']\n",
      "['HIndu', 'Kristen', 'Katolik', 'Budha', 'Islam', 'Konghucu']\n",
      "['HIndu', 'Kristen', 'Katolik', 'Budha', 'Islam', 'Konghucu']\n",
      "['HIndu', 'Kristen', 'Katolik', 'Budha', 'Islam', 'Konghucu']\n",
      "['HIndu', 'Kristen', 'Katolik', 'Budha', 'Islam', 'Konghucu']\n"
     ]
    }
   ],
   "source": [
    "Agama = [\"HIndu\", \"Kristen\", \"Katolik\", \"Budha\", \"Islam\", \"Konghucu\"]\n",
    "for jenis in Agama: \n",
    "    print(Agama)"
   ]
  },
  {
   "cell_type": "markdown",
   "id": "faa8c338",
   "metadata": {},
   "source": [
    "# FUNGSI RANGE "
   ]
  },
  {
   "cell_type": "code",
   "execution_count": 15,
   "id": "35818e1b",
   "metadata": {},
   "outputs": [
    {
     "name": "stdout",
     "output_type": "stream",
     "text": [
      "range(0, 10)\n"
     ]
    }
   ],
   "source": [
    "#Fungsi range berguna untuk membangkitkan bilangan berurutan atau berpola\n",
    "#yang kita inginkan. Untuk menuliskannya, perlu dikombinasikan dengan for Loop\n",
    "\n",
    "angka = range(10)\n",
    "print (angka)"
   ]
  },
  {
   "cell_type": "code",
   "execution_count": 16,
   "id": "0d468090",
   "metadata": {},
   "outputs": [
    {
     "name": "stdout",
     "output_type": "stream",
     "text": [
      "0\n",
      "1\n",
      "2\n",
      "3\n",
      "4\n",
      "5\n",
      "6\n",
      "7\n",
      "8\n",
      "9\n"
     ]
    }
   ],
   "source": [
    "for ada in angka: \n",
    "    print(ada)"
   ]
  },
  {
   "cell_type": "code",
   "execution_count": 20,
   "id": "9f498c13",
   "metadata": {},
   "outputs": [
    {
     "name": "stdout",
     "output_type": "stream",
     "text": [
      "7\n",
      "8\n",
      "9\n"
     ]
    }
   ],
   "source": [
    "for isi in range (7,10):\n",
    "    print(isi)\n",
    "#hasil yang keluar di kurang 1 dari yang kita inginkan, seperti pada percobaan diatas, pada data yang diminta 7 sampai 10\n",
    "#tetapi yang terlihat pada hasil adalah 7,8,9 saja 10 tidak terlihat di hasil "
   ]
  },
  {
   "cell_type": "code",
   "execution_count": 22,
   "id": "4a9b183d",
   "metadata": {},
   "outputs": [
    {
     "name": "stdout",
     "output_type": "stream",
     "text": [
      "0\n",
      "3\n",
      "6\n",
      "9\n",
      "12\n",
      "15\n",
      "18\n",
      "21\n",
      "24\n"
     ]
    }
   ],
   "source": [
    "for tiga in range (0,25,3):\n",
    "    print(tiga)\n",
    "#ini menjadi kelipatan tiga karena kita menambahkan angka 3 pada urutan ketiga "
   ]
  },
  {
   "cell_type": "code",
   "execution_count": null,
   "id": "4157cb1b",
   "metadata": {},
   "outputs": [],
   "source": [
    "for coba in range (0,25,3,5):\n",
    "    print(coba)\n",
    "#tidak bisa menggunakan lebih dari 3 data"
   ]
  }
 ],
 "metadata": {
  "kernelspec": {
   "display_name": "Python 3 (ipykernel)",
   "language": "python",
   "name": "python3"
  },
  "language_info": {
   "codemirror_mode": {
    "name": "ipython",
    "version": 3
   },
   "file_extension": ".py",
   "mimetype": "text/x-python",
   "name": "python",
   "nbconvert_exporter": "python",
   "pygments_lexer": "ipython3",
   "version": "3.9.13"
  }
 },
 "nbformat": 4,
 "nbformat_minor": 5
}
